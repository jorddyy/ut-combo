{
 "cells": [
  {
   "cell_type": "markdown",
   "metadata": {},
   "source": [
    "# Combinations of uud measurements"
   ]
  },
  {
   "cell_type": "code",
   "execution_count": 1,
   "metadata": {},
   "outputs": [],
   "source": [
    "# libraries\n",
    "import json\n",
    "import sys, os\n",
    "sys.path.append('../coco')\n",
    "sys.path.append('../inputs')"
   ]
  },
  {
   "cell_type": "code",
   "execution_count": 2,
   "metadata": {},
   "outputs": [],
   "source": [
    "from HelperFunctions import showIminuitResult, showIminuitMinosResult, showIminuitResultCorrmat, outputMinuitResult, EvaluateForMinuit\n",
    "from HelperFunctions import printLatexTable, printChi2nDoF, makeResidualPlot\n",
    "from ResultSet import *\n",
    "from iminuit import Minuit\n",
    "import pylab as pl\n",
    "sys.path.append(\"./\")\n",
    "from scipy import stats, special"
   ]
  },
  {
   "cell_type": "code",
   "execution_count": 7,
   "metadata": {},
   "outputs": [
    {
     "name": "stdout",
     "output_type": "stream",
     "text": [
      "\n",
      "The combination has been configured with these Input file(s):\n",
      "  ['ResultList_pi+pi-.json']\n"
     ]
    }
   ],
   "source": [
    "inputfilelist = [\n",
    "    \"ResultList_pi+pi-.json\"\n",
    "]\n",
    "#Set up your i/o paths\n",
    "inputpath = '../inputs/uudMeasurements/'\n",
    "outputpath = '../outputs/uudMeasurements/'\n",
    "print('\\nThe combination has been configured with these Input file(s):\\n ',inputfilelist)\n",
    "\n",
    "# check if input/output folders exist and otherwise create them\n",
    "if not os.path.exists(inputpath):\n",
    "    os.makedirs(inputpath)\n",
    "if not os.path.exists(outputpath):\n",
    "    os.makedirs(outputpath)"
   ]
  },
  {
   "cell_type": "code",
   "execution_count": 8,
   "metadata": {},
   "outputs": [
    {
     "name": "stdout",
     "output_type": "stream",
     "text": [
      "\n",
      "readResultListJSON: is reading the ResultSet files\n",
      "ResultList_pi+pi-.json\n",
      "\n",
      "readResultListJSON:  Output written all files combined into:  ../outputs/uudMeasurements/CombinationInputOnefile.json\n",
      "\n",
      "readResultListJSON: is reading the Intercorrelartion configuration files\n",
      "\n",
      "SanityCheck: Performing self sanity check of ResultList big correlation matrix\n",
      "\n",
      "SanityCheck: PASSED\n"
     ]
    }
   ],
   "source": [
    "reslist = readResultListJSON(inputfilelist, inputpath=inputpath, outputpath=outputpath)"
   ]
  },
  {
   "cell_type": "code",
   "execution_count": 9,
   "metadata": {},
   "outputs": [],
   "source": [
    "#Now choose what you want to include in this average  (these flags are used below just before the fit)\n",
    "doStatisticalCorrelations = True\n",
    "doSystematics = True\n",
    "doSystematicCorrelations = False\n",
    "doIntercorrelations = False"
   ]
  },
  {
   "cell_type": "code",
   "execution_count": 11,
   "metadata": {},
   "outputs": [],
   "source": [
    "pars = reslist.getUniqueParameters()"
   ]
  },
  {
   "cell_type": "code",
   "execution_count": 10,
   "metadata": {},
   "outputs": [
    {
     "name": "stdout",
     "output_type": "stream",
     "text": [
      "\n",
      "--------------------------------------\n",
      "ShowAll (all details)\n",
      "\n",
      "\n",
      "----------ResultSet------------\n",
      "Label =  BaBar \n",
      "\n",
      "Description:\n",
      "PRD 87 (2013) 052009\n",
      "\n",
      "\n",
      "S_CP            :  \t -0.68  +/-  0.1  +/-    0.0300      =       -0.68  +/-    0.1044\n",
      "C_CP            :  \t -0.25  +/-  0.08  +/-    0.0200      =       -0.25  +/-    0.0825\n",
      "\n",
      "Statistical Correlation Matrix:\n",
      "   1.00\t-0.06\t\n",
      "  \t 1.00\t\n",
      "\n",
      "Systematic Error: TotalSyst\n",
      "[0.03 0.02]\n",
      "   1.00\t 0.00\t\n",
      "  \t 1.00\t\n",
      "\n",
      "Correlation Matrix:\n",
      "   1.00\t-0.05\t\n",
      "  \t 1.00\t\n",
      "\n",
      "----------ResultSet------------\n",
      "Label =  Belle \n",
      "\n",
      "Description:\n",
      "PRD 88 (2013) 092003\n",
      "\n",
      "\n",
      "S_CP            :  \t -0.64  +/-  0.08  +/-    0.0300      =       -0.64  +/-    0.0854\n",
      "C_CP            :  \t -0.33  +/-  0.06  +/-    0.0300      =       -0.33  +/-    0.0671\n",
      "\n",
      "Statistical Correlation Matrix:\n",
      "   1.00\t-0.10\t\n",
      "  \t 1.00\t\n",
      "\n",
      "Systematic Error: TotalSyst\n",
      "[0.03 0.03]\n",
      "   1.00\t 0.00\t\n",
      "  \t 1.00\t\n",
      "\n",
      "Correlation Matrix:\n",
      "   1.00\t-0.08\t\n",
      "  \t 1.00\t\n",
      "\n",
      "----------ResultSet------------\n",
      "Label =  LHCb Average \n",
      "\n",
      "Description:\n",
      "JHEP 2103 (2021) 075\n",
      "\n",
      "\n",
      "S_CP            :  \t -0.672  +/-  0.034  +/-    0.0000      =       -0.672  +/-    0.0340\n",
      "C_CP            :  \t -0.32  +/-  0.038  +/-    0.0000      =       -0.32  +/-    0.0380\n",
      "\n",
      "Statistical Correlation Matrix:\n",
      "   1.00\t 0.41\t\n",
      "  \t 1.00\t\n",
      "\n",
      "Correlation Matrix:\n",
      "   1.00\t 0.41\t\n",
      "  \t 1.00\t\n",
      "\n",
      "-----------Intercorrelations added---------\n",
      "\n",
      "\n",
      "Intercorrleation Maps read in:\n",
      "\n",
      "Total Correlation Matrix:\n",
      "   1.00\t-0.05\t 0.00\t 0.00\t 0.00\t 0.00\t\n",
      "  \t 1.00\t 0.00\t 0.00\t 0.00\t 0.00\t\n",
      "  \t\t 1.00\t-0.08\t 0.00\t 0.00\t\n",
      "  \t\t\t 1.00\t 0.00\t 0.00\t\n",
      "  \t\t\t\t 1.00\t 0.41\t\n",
      "  \t\t\t\t\t 1.00\t\n",
      "\n",
      "Total Covariance Matrix:\n",
      "   1.1e-02\t-4.5e-04\t 0.0e+00\t 0.0e+00\t 0.0e+00\t 0.0e+00\t\n",
      "  \t\t 6.8e-03\t 0.0e+00\t 0.0e+00\t 0.0e+00\t 0.0e+00\t\n",
      "  \t\t\t\t 7.3e-03\t-4.8e-04\t 0.0e+00\t 0.0e+00\t\n",
      "  \t\t\t\t\t\t 4.5e-03\t 0.0e+00\t 0.0e+00\t\n",
      "  \t\t\t\t\t\t\t\t 1.2e-03\t 5.2e-04\t\n",
      "  \t\t\t\t\t\t\t\t\t\t 1.4e-03\t\n"
     ]
    }
   ],
   "source": [
    "#Show all systematic errors and full correlation matrix\n",
    "reslist.showAll(PrintCorrMat=True,PrintCovMat=True)"
   ]
  },
  {
   "cell_type": "code",
   "execution_count": 13,
   "metadata": {},
   "outputs": [
    {
     "name": "stdout",
     "output_type": "stream",
     "text": [
      "\n",
      " It has unique parameters:  ['C_CP      ', 'S_CP      ']\n"
     ]
    }
   ],
   "source": [
    "#Show the set of unique parameters for info\n",
    "print('\\n It has unique parameters: ', ['{:10s}'.format(par) for par in reslist.getUniqueParameters()])\n"
   ]
  },
  {
   "cell_type": "code",
   "execution_count": 14,
   "metadata": {},
   "outputs": [
    {
     "name": "stdout",
     "output_type": "stream",
     "text": [
      "\n",
      "-------------Doing the combination--------------\n"
     ]
    }
   ],
   "source": [
    "print('\\n-------------Doing the combination--------------')\n",
    "#Set the chosen error treatment flags\n",
    "reslist.setErrorTreatmentFlags( doStatCorr=doStatisticalCorrelations, doSyst=doSystematics, doSystCorr=doSystematicCorrelations, doIntercorr=doIntercorrelations )"
   ]
  },
  {
   "cell_type": "code",
   "execution_count": 15,
   "metadata": {},
   "outputs": [],
   "source": [
    "#Create the EvaluateFotMinuit object which provides the FCN interface\n",
    "eval = EvaluateForMinuit( reslist, pars )"
   ]
  },
  {
   "cell_type": "code",
   "execution_count": 16,
   "metadata": {},
   "outputs": [],
   "source": [
    "# Get the dictionary with all parameters, their start values and their initial setepsize (errors)\n",
    "svals = reslist.getStartValues( pars )"
   ]
  },
  {
   "cell_type": "code",
   "execution_count": 17,
   "metadata": {},
   "outputs": [],
   "source": [
    "# Now get the numerical list of starting values out of the dictionary in the correct order for the Minuit constructor\n",
    "start =[ svals[p] for p in pars ]"
   ]
  },
  {
   "cell_type": "code",
   "execution_count": 18,
   "metadata": {},
   "outputs": [],
   "source": [
    "# Create Minimiser with special constructor.\n",
    "# The names and order of parameters is given by pars\n",
    "m = Minuit(eval.fcn, start, name=pars)\n",
    "m.errordef = 1.0\n",
    "m.print_level = 0\n",
    "m.tol = m.tol*0.0001\n"
   ]
  },
  {
   "cell_type": "code",
   "execution_count": 19,
   "metadata": {},
   "outputs": [
    {
     "data": {
      "text/html": [
       "<table>\n",
       "    <tr>\n",
       "        <th colspan=\"2\" style=\"text-align:center\" title=\"Minimizer\"> Migrad </th>\n",
       "    </tr>\n",
       "    <tr>\n",
       "        <td style=\"text-align:left\" title=\"Minimum value of function\"> FCN = 0.7795 </td>\n",
       "        <td style=\"text-align:center\" title=\"Total number of function and (optional) gradient evaluations\"> Nfcn = 55 </td>\n",
       "    </tr>\n",
       "    <tr>\n",
       "        <td style=\"text-align:left\" title=\"Estimated distance to minimum and goal\"> EDM = 5.72e-26 (Goal: 2e-08) </td>\n",
       "        <td style=\"text-align:center\" title=\"Total run time of algorithms\">  </td>\n",
       "    </tr>\n",
       "    <tr>\n",
       "        <td style=\"text-align:center;background-color:#92CCA6;color:black\"> Valid Minimum </td>\n",
       "        <td style=\"text-align:center;background-color:#92CCA6;color:black\"> Below EDM threshold (goal x 10) </td>\n",
       "    </tr>\n",
       "    <tr>\n",
       "        <td style=\"text-align:center;background-color:#92CCA6;color:black\"> No parameters at limit </td>\n",
       "        <td style=\"text-align:center;background-color:#92CCA6;color:black\"> Below call limit </td>\n",
       "    </tr>\n",
       "    <tr>\n",
       "        <td style=\"text-align:center;background-color:#92CCA6;color:black\"> Hesse ok </td>\n",
       "        <td style=\"text-align:center;background-color:#92CCA6;color:black\"> Covariance accurate </td>\n",
       "    </tr>\n",
       "</table><table>\n",
       "    <tr>\n",
       "        <td></td>\n",
       "        <th title=\"Variable name\"> Name </th>\n",
       "        <th title=\"Value of parameter\"> Value </th>\n",
       "        <th title=\"Hesse error\"> Hesse Error </th>\n",
       "        <th title=\"Minos lower error\"> Minos Error- </th>\n",
       "        <th title=\"Minos upper error\"> Minos Error+ </th>\n",
       "        <th title=\"Lower limit of the parameter\"> Limit- </th>\n",
       "        <th title=\"Upper limit of the parameter\"> Limit+ </th>\n",
       "        <th title=\"Is the parameter fixed in the fit\"> Fixed </th>\n",
       "    </tr>\n",
       "    <tr>\n",
       "        <th> 0 </th>\n",
       "        <td> C_CP </td>\n",
       "        <td> -0.311 </td>\n",
       "        <td> 0.030 </td>\n",
       "        <td> -0.030 </td>\n",
       "        <td> 0.030 </td>\n",
       "        <td>  </td>\n",
       "        <td>  </td>\n",
       "        <td>  </td>\n",
       "    </tr>\n",
       "    <tr>\n",
       "        <th> 1 </th>\n",
       "        <td> S_CP </td>\n",
       "        <td> -0.666 </td>\n",
       "        <td> 0.029 </td>\n",
       "        <td> -0.029 </td>\n",
       "        <td> 0.029 </td>\n",
       "        <td>  </td>\n",
       "        <td>  </td>\n",
       "        <td>  </td>\n",
       "    </tr>\n",
       "</table><table>\n",
       "    <tr>\n",
       "        <td></td>\n",
       "        <th colspan=\"2\" style=\"text-align:center\" title=\"Parameter name\"> C_CP </th>\n",
       "        <th colspan=\"2\" style=\"text-align:center\" title=\"Parameter name\"> S_CP </th>\n",
       "    </tr>\n",
       "    <tr>\n",
       "        <th title=\"Lower and upper minos error of the parameter\"> Error </th>\n",
       "        <td> -0.03 </td>\n",
       "        <td> 0.03 </td>\n",
       "        <td> -0.029 </td>\n",
       "        <td> 0.029 </td>\n",
       "    </tr>\n",
       "    <tr>\n",
       "        <th title=\"Validity of lower/upper minos error\"> Valid </th>\n",
       "        <td style=\"background-color:#92CCA6;color:black\"> True </td>\n",
       "        <td style=\"background-color:#92CCA6;color:black\"> True </td>\n",
       "        <td style=\"background-color:#92CCA6;color:black\"> True </td>\n",
       "        <td style=\"background-color:#92CCA6;color:black\"> True </td>\n",
       "    </tr>\n",
       "    <tr>\n",
       "        <th title=\"Did scan hit limit of any parameter?\"> At Limit </th>\n",
       "        <td style=\"background-color:#92CCA6;color:black\"> False </td>\n",
       "        <td style=\"background-color:#92CCA6;color:black\"> False </td>\n",
       "        <td style=\"background-color:#92CCA6;color:black\"> False </td>\n",
       "        <td style=\"background-color:#92CCA6;color:black\"> False </td>\n",
       "    </tr>\n",
       "    <tr>\n",
       "        <th title=\"Did scan hit function call limit?\"> Max FCN </th>\n",
       "        <td style=\"background-color:#92CCA6;color:black\"> False </td>\n",
       "        <td style=\"background-color:#92CCA6;color:black\"> False </td>\n",
       "        <td style=\"background-color:#92CCA6;color:black\"> False </td>\n",
       "        <td style=\"background-color:#92CCA6;color:black\"> False </td>\n",
       "    </tr>\n",
       "    <tr>\n",
       "        <th title=\"New minimum found when doing scan?\"> New Min </th>\n",
       "        <td style=\"background-color:#92CCA6;color:black\"> False </td>\n",
       "        <td style=\"background-color:#92CCA6;color:black\"> False </td>\n",
       "        <td style=\"background-color:#92CCA6;color:black\"> False </td>\n",
       "        <td style=\"background-color:#92CCA6;color:black\"> False </td>\n",
       "    </tr>\n",
       "</table><table>\n",
       "    <tr>\n",
       "        <td></td>\n",
       "        <th> C_CP </th>\n",
       "        <th> S_CP </th>\n",
       "    </tr>\n",
       "    <tr>\n",
       "        <th> C_CP </th>\n",
       "        <td> 0.000909 </td>\n",
       "        <td style=\"background-color:rgb(250,207,207);color:black\"> 0.3e-3 <strong>(0.288)</strong> </td>\n",
       "    </tr>\n",
       "    <tr>\n",
       "        <th> S_CP </th>\n",
       "        <td style=\"background-color:rgb(250,207,207);color:black\"> 0.3e-3 <strong>(0.288)</strong> </td>\n",
       "        <td> 0.000862 </td>\n",
       "    </tr>\n",
       "</table>"
      ],
      "text/plain": [
       "┌─────────────────────────────────────────────────────────────────────────┐\n",
       "│                                Migrad                                   │\n",
       "├──────────────────────────────────┬──────────────────────────────────────┤\n",
       "│ FCN = 0.7795                     │              Nfcn = 55               │\n",
       "│ EDM = 5.72e-26 (Goal: 2e-08)     │                                      │\n",
       "├──────────────────────────────────┼──────────────────────────────────────┤\n",
       "│          Valid Minimum           │   Below EDM threshold (goal x 10)    │\n",
       "├──────────────────────────────────┼──────────────────────────────────────┤\n",
       "│      No parameters at limit      │           Below call limit           │\n",
       "├──────────────────────────────────┼──────────────────────────────────────┤\n",
       "│             Hesse ok             │         Covariance accurate          │\n",
       "└──────────────────────────────────┴──────────────────────────────────────┘\n",
       "┌───┬──────┬───────────┬───────────┬────────────┬────────────┬─────────┬─────────┬───────┐\n",
       "│   │ Name │   Value   │ Hesse Err │ Minos Err- │ Minos Err+ │ Limit-  │ Limit+  │ Fixed │\n",
       "├───┼──────┼───────────┼───────────┼────────────┼────────────┼─────────┼─────────┼───────┤\n",
       "│ 0 │ C_CP │  -0.311   │   0.030   │   -0.030   │   0.030    │         │         │       │\n",
       "│ 1 │ S_CP │  -0.666   │   0.029   │   -0.029   │   0.029    │         │         │       │\n",
       "└───┴──────┴───────────┴───────────┴────────────┴────────────┴─────────┴─────────┴───────┘\n",
       "┌──────────┬───────────────────────┬───────────────────────┐\n",
       "│          │         C_CP          │         S_CP          │\n",
       "├──────────┼───────────┬───────────┼───────────┬───────────┤\n",
       "│  Error   │   -0.03   │   0.03    │  -0.029   │   0.029   │\n",
       "│  Valid   │   True    │   True    │   True    │   True    │\n",
       "│ At Limit │   False   │   False   │   False   │   False   │\n",
       "│ Max FCN  │   False   │   False   │   False   │   False   │\n",
       "│ New Min  │   False   │   False   │   False   │   False   │\n",
       "└──────────┴───────────┴───────────┴───────────┴───────────┘\n",
       "┌──────┬───────────────────┐\n",
       "│      │     C_CP     S_CP │\n",
       "├──────┼───────────────────┤\n",
       "│ C_CP │ 0.000909   0.3e-3 │\n",
       "│ S_CP │   0.3e-3 0.000862 │\n",
       "└──────┴───────────────────┘"
      ]
     },
     "execution_count": 19,
     "metadata": {},
     "output_type": "execute_result"
    }
   ],
   "source": [
    "m.migrad()\n",
    "m.minos()"
   ]
  },
  {
   "cell_type": "code",
   "execution_count": 20,
   "metadata": {},
   "outputs": [
    {
     "name": "stdout",
     "output_type": "stream",
     "text": [
      "\n",
      "IMinuit average \n",
      "   C_CP            :  \t  -0.3113  +/-    0.0301\n",
      "   S_CP            :  \t  -0.6664  +/-    0.0294\n",
      "\n",
      "\n"
     ]
    }
   ],
   "source": [
    "showIminuitResult(m)"
   ]
  },
  {
   "cell_type": "code",
   "execution_count": 21,
   "metadata": {},
   "outputs": [
    {
     "name": "stdout",
     "output_type": "stream",
     "text": [
      "\n",
      "IMinuit MINOS average \n",
      "   C_CP            :  \t  -0.3113  +  0.0301  -0.0301\n",
      "   S_CP            :  \t  -0.6664  +  0.0294  -0.0294\n",
      "\n",
      "\n"
     ]
    }
   ],
   "source": [
    "showIminuitMinosResult(m)"
   ]
  },
  {
   "cell_type": "code",
   "execution_count": 22,
   "metadata": {},
   "outputs": [
    {
     "name": "stdout",
     "output_type": "stream",
     "text": [
      "\n",
      " Final Corrmat: \n",
      "   1.00\t 0.29\t\n",
      "  \t 1.00\t\n"
     ]
    }
   ],
   "source": [
    "showIminuitResultCorrmat(m)"
   ]
  },
  {
   "cell_type": "code",
   "execution_count": 23,
   "metadata": {},
   "outputs": [
    {
     "name": "stdout",
     "output_type": "stream",
     "text": [
      "nInputs = 6 nFitParams= 2\n",
      "chi2 = 0.78 nDoF = 4.0 chi2/nDoF = 0.195 p-value = 0.941175\n"
     ]
    }
   ],
   "source": [
    "chisqndof = printChi2nDoF(reslist, m)"
   ]
  },
  {
   "cell_type": "code",
   "execution_count": 24,
   "metadata": {},
   "outputs": [
    {
     "data": {
      "image/png": "[encoded data removed]",
      "text/plain": [
       "<Figure size 640x480 with 1 Axes>"
      ]
     },
     "metadata": {},
     "output_type": "display_data"
    }
   ],
   "source": [
    "#Make residuals plot all points\n",
    "makeResidualPlot( chisqndof, reslist, m, outputpath+'PullPlot.pdf' )"
   ]
  },
  {
   "cell_type": "code",
   "execution_count": 26,
   "metadata": {},
   "outputs": [
    {
     "name": "stdout",
     "output_type": "stream",
     "text": [
      "Output file written:  JSON file containing simple average ResultSet: ../outputs/uudMeasurements/AverageResultSet_pi+pi-.json\n",
      "Output file written:  JSON file containing final combined ResultSet: ../outputs/uudMeasurements/AverageResultSet_pi+pi-.json\n"
     ]
    }
   ],
   "source": [
    "#output the full result in JSON format for use in a subsequent average\n",
    "reslist.outputSimpleAverage(outputFileName=outputpath+'AverageResultSet_pi+pi-.json', title='Simp.Avg.' )\n",
    "outputMinuitResult( m, outputFileName=outputpath+'AverageResultSet_pi+pi-.json', title='Comb', minos=True )\n"
   ]
  },
  {
   "cell_type": "code",
   "execution_count": 27,
   "metadata": {},
   "outputs": [],
   "source": [
    "latexLabels = {\n",
    "    'S_CP': '$S_{C/!P}$',\n",
    "    'C_CP': '$C_{C/!P}$',\n",
    "}"
   ]
  },
  {
   "cell_type": "code",
   "execution_count": 29,
   "metadata": {},
   "outputs": [
    {
     "name": "stdout",
     "output_type": "stream",
     "text": [
      "Output file written:  Latex Table containing core of correlation matrix: ../outputs/uudMeasurements/AverageLatexTable_pi+pi-.tex\n"
     ]
    }
   ],
   "source": [
    "printLatexTable( m, latexLabels, outputFileName=outputpath+'AverageLatexTable_pi+pi-.tex' )"
   ]
  },
  {
   "cell_type": "code",
   "execution_count": null,
   "metadata": {},
   "outputs": [],
   "source": []
  }
 ],
 "metadata": {
  "kernelspec": {
   "display_name": "tfa_gpu",
   "language": "python",
   "name": "python3"
  },
  "language_info": {
   "codemirror_mode": {
    "name": "ipython",
    "version": 3
   },
   "file_extension": ".py",
   "mimetype": "text/x-python",
   "name": "python",
   "nbconvert_exporter": "python",
   "pygments_lexer": "ipython3",
   "version": "3.9.18"
  }
 },
 "nbformat": 4,
 "nbformat_minor": 2
}
